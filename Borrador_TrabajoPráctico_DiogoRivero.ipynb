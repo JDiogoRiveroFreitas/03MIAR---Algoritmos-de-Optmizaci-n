{
  "nbformat": 4,
  "nbformat_minor": 0,
  "metadata": {
    "colab": {
      "provenance": [],
      "include_colab_link": true
    },
    "kernelspec": {
      "name": "python3",
      "display_name": "Python 3"
    }
  },
  "cells": [
    {
      "cell_type": "markdown",
      "metadata": {
        "id": "view-in-github",
        "colab_type": "text"
      },
      "source": [
        "<a href=\"https://colab.research.google.com/github/JDiogoRiveroFreitas/AlgoritmosOptmizacion-03MIAR/blob/main/Borrador_TrabajoPr%C3%A1ctico_DiogoRivero.ipynb\" target=\"_parent\"><img src=\"https://colab.research.google.com/assets/colab-badge.svg\" alt=\"Open In Colab\"/></a>"
      ]
    },
    {
      "cell_type": "markdown",
      "metadata": {
        "id": "hVbXYX-RfPWh"
      },
      "source": [
        "# Algoritmos de optimización - Trabajo Práctico\n",
        "## Algoritmos de Optimización, Máster en Inteligencia Artificial, VIU\n",
        "> **José Diogo Rivero Freitas**\n",
        "\n",
        "Notebook en Google Colab:\n",
        "Repositorio de la asignatura en GitHub: https://github.com/JDiogoRiveroFreitas/AlgoritmosOptmizacion-03MIAR.git\n",
        "<br>\n",
        "<br>\n",
        "Problema:\n",
        "- Organizar los horarios de partidos de La Liga\n",
        "\n",
        "\n",
        "\n",
        "\n",
        "\n",
        "\n",
        "\n",
        "                                        "
      ]
    },
    {
      "cell_type": "markdown",
      "source": [
        "**Descripción del problema:** <br>\n",
        "Desde la La Liga de fútbol profesional se pretende organizar los horarios de los partidos de liga de cada jornada. Se conocen algunos datos que nos deben llevar a diseñar un algoritmo que realice la asignación de los partidos a los horarios de forma que maximice la audiencia. Los horarios disponibles se conocen a priori y son los siguientes: <br>\n",
        "\n",
        "| Día     | Horario     |\n",
        "|---------|-------------|\n",
        "| Viernes | 20          |       \n",
        "| Sábado  | 12,16,18,20 |           \n",
        "| Domingo | 12,16,18,20 |            \n",
        "| Lunes   | 20          |           \n",
        "\n",
        "\n",
        "En primer lugar se clasifican los equipos en tres categorías según el numero de seguidores( que tiene relación directa con la audiencia). Hay 3 equipos en la categoría A, 11 equipos de categoría B y 6 equipos de categoría C. Se conoce estadísticamente la audiencia que genera cada partido según los equipos que se enfrentan y en horario de sábado a las 20h (el mejor en todos los casos)\n",
        "\n",
        "|                   | Categoría A | Categoría B   | Categoría C   |\n",
        "|-------------------|-------------|---------------|---------------|\n",
        "| Categoría A       | 2 millones  | 1,3 millones  | 1 millones    |\n",
        "| Categoría B       |             | 0,9 millones  | 0,75 millones |\n",
        "| Categoría C       |             |               | 0,47 millones |\n",
        "\n",
        "\n",
        "Si el horario del partido no se realiza a las 20 horas del sábado se sabe que se reduce según los coeficientes de la siguiente tabla. Debemos asignar obligatoriamente siempre un partido el viernes y un partido el lunes\n",
        "\n",
        "\n",
        "|      | Viernes |  Sábado   | Domingo   | Lunes   |\n",
        "|------|---------|-----------|-----------|---------|\n",
        "| 12h  |         | 0,55      | 0,45      |         |\n",
        "| 16h  |         | 0,7       | 0,75      |         |\n",
        "| 18h  |         | 0,8       | 0,85      |         |\n",
        "| 20h  |0,4      | 1         | 1         |0,4      |\n",
        "\n",
        "Es posible la coincidencia de horarios pero en este caso la audiencia de cada partido se verá afectada y se estima que se reduce en porcentaje según la siguiente tabla dependiendo del número de coincidencias:\n",
        "\n",
        "| Coincidencias| -%  |\n",
        "|--------------|-----|\n",
        "| 0            |  0% |\n",
        "| 1            | 25% |\n",
        "| 2            | 45% |\n",
        "| 3            | 60% |\n",
        "| 4            | 70% |\n",
        "| 5            | 75% |\n",
        "| 6            | 78% |\n",
        "| 7            | 80% |\n",
        "| 8            | 80% |"
      ],
      "metadata": {
        "id": "iz6S20r1IYxa"
      }
    },
    {
      "cell_type": "markdown",
      "source": [
        "#**Modelo**\n",
        "## - ¿Como represento el espacio de soluciones?\n",
        "El concepto que planteo desde un inicio, es trabajar con dataframes de la librería pandas. Las soluciones candidatas a óptimas serán listas, las cuales se implementen al dataframe para que se procese el resultado de cada propuesta con la función objetivo.\n",
        "\n",
        "## - ¿Cual es la función objetivo?\n",
        "> ∑ factor_categoría * factor_horario * factor_coincidencia\n",
        "\n",
        "## - ¿Como implemento las restricciones?\n",
        "En este problema las restricciones impuestas son:\n",
        "- Debe haber al menos un partido el **viernes** a las 20:00.\n",
        "- Debe haber al menos un partido el **lunes** a las 20:00.\n",
        "\n",
        "Para que estas se cumplan, en el generador de propuestas se forzará a que se cumplan y en posteriores etapas se manipularan las propuestas de modo que no se pierdan estos 2 elementos."
      ],
      "metadata": {
        "id": "Sbo9IqQtpaHZ"
      }
    },
    {
      "cell_type": "markdown",
      "source": [
        "A continuación se formulan las bases del algoritmo"
      ],
      "metadata": {
        "id": "x0dPOZbuT9fO"
      }
    },
    {
      "cell_type": "code",
      "metadata": {
        "id": "AiskKkzZfy4e"
      },
      "source": [
        "# Importaciones\n",
        "\n",
        "import pandas as pd\n",
        "import random"
      ],
      "execution_count": 4,
      "outputs": []
    },
    {
      "cell_type": "code",
      "source": [
        "# Se añaden todos los factores expuestos en el enunciado\n",
        "\n",
        "fact_category = {'AA': 2, 'BA': 1.3, 'BB':0.9, 'BC':0.75, 'CC':0.47}\n",
        "fact_schedule = {'V20': 0.4,'S12': 0.55,'S16': 0.7, 'S18': 0.8, 'S20': 1, 'D12': 0.45, 'D16': 0.75, 'D18': 0.85, 'D20': 1, 'L20': 0.4}\n",
        "fact_coincidence= {0:1, 1: 0.75, 2: 0.55, 3: 0.4, 4: 0.3, 5: 0.25, 6: 0.22, 7: 0.2, 8: 0.2, 9: 0.2}"
      ],
      "metadata": {
        "id": "BgPOkdxBUQOK"
      },
      "execution_count": 5,
      "outputs": []
    },
    {
      "cell_type": "markdown",
      "source": [
        "#**Análisis**\n",
        "## - ¿Que complejidad tiene el problema?. Orden de complejidad y contabilizar el espacio de soluciones.\n",
        "Si no tenemos en cuenta las restricciones y hacemos uso de la combinatoria, este problema contaría con las siguientes características:\n",
        "- No se toman todos los elementos iniciales. Esto es debido a que tomamos como elementos a los horarios, y es posible poner todos los partidos el mismo día y a la misma hora.\n",
        "- El orden importa. Ya que si tomamos los partidos en un orden y tenemos en cuenta a los aficionados, no es lo mismo poner un partido en la franja de mayor audiencia los partidos de categoría AA que CC.\n",
        "- Es posible la repetición, por la misma jsutificación que en el primer punto.\n",
        "Por lo tanto, estamos frente a una **variación con repetición**. Si lo aplicamos a nuestro problema:\n",
        "> VR = m^n = 10^10\n",
        "\n",
        "Las restricciones en este caso son que debe haber obligatoriamente como mínimo un partido el viernes y lunes.\n",
        "Por lo que se plantea de la siguiente manera:\n",
        "- Tomamos como elementos a los partidos.\n",
        "- Al viernes le asignamos un partido de los diez, por lo tanto quedan 9 sin asignar.\n",
        "- Al lunes le asignamos un partido de los nueve, siendo 8 los restantes.\n",
        "- En este momento hemos cumplido las restricciones por lo que podemos asignar el resto de partidos como en el apartado anterior.\n",
        "Por lo que:\n",
        "> Posibilidades = 10 * 9 * 10^8 = 9 * 10^9\n",
        "\n",
        "Para hacer este problema mediante fuerza bruta, una opción sería poner de forma consecutiva 10 bucles for que recorran las opciones horarias posibles y en el último poner dos bloques de condición if para que se añadan a la lista de soluciones sólo las propuestas que cumplan las restricciones.<br>\n",
        "\\* Se ha intentado hacer esto para obtener el resultado óptimo de cara a tener un objetivo, pero resulta muy difícil por tiempo y hardware.\n"
      ],
      "metadata": {
        "id": "HZz52wOppp-U"
      }
    },
    {
      "cell_type": "code",
      "source": [
        "# La base del algoritmo será un algoritmo al que se le adjuntará la propuesta\n",
        "# con una lista para de este modo evaluar la propuesta.\n",
        "\n",
        "# Se definen los partidos y sus categorías\n",
        "matches = [['Celta_RMadrid', 'BA'], ['Valencia_RSociedad', 'BA'],\n",
        "           ['Mallorca_Eibar', 'CC'], ['Athletic_Barcelona','BA'],\n",
        "           ['Leganés_Osasuna','CC'], ['Villareal_Granada','BC'],\n",
        "           ['Alaves_Levante','BB'], ['Espanyol_Sevilla','BB'],\n",
        "           ['Betis_Valladolid','BC'], ['Atlético_Getafe','BB']]\n",
        "\n",
        "# Se crea el dataframe con dos columnas, partido y categorías\n",
        "df_matches_init = pd.DataFrame(matches, columns=['Match', 'Category'])\n",
        "\n",
        "# El siguiente bloque se emplea para mostrar la audiencia. Esta se sabe gracias\n",
        "# al diccionario de \"fact_category\"\n",
        "attendance = []\n",
        "for i in range(0, len(df_matches_init['Category'])):\n",
        "    attendance.append(fact_category[df_matches_init['Category'][i]])\n",
        "\n",
        "df_matches_init['Attendance'] = attendance\n",
        "\n",
        "# Se muestra en pantalla el dataframe base\n",
        "display(df_matches_init)\n"
      ],
      "metadata": {
        "id": "CZ-5BmpspttV",
        "colab": {
          "base_uri": "https://localhost:8080/",
          "height": 359
        },
        "outputId": "873f8e30-f451-42be-f587-c4235139e625"
      },
      "execution_count": 6,
      "outputs": [
        {
          "output_type": "display_data",
          "data": {
            "text/plain": [
              "                Match Category  Attendance\n",
              "0       Celta_RMadrid       BA        1.30\n",
              "1  Valencia_RSociedad       BA        1.30\n",
              "2      Mallorca_Eibar       CC        0.47\n",
              "3  Athletic_Barcelona       BA        1.30\n",
              "4     Leganés_Osasuna       CC        0.47\n",
              "5   Villareal_Granada       BC        0.75\n",
              "6      Alaves_Levante       BB        0.90\n",
              "7    Espanyol_Sevilla       BB        0.90\n",
              "8    Betis_Valladolid       BC        0.75\n",
              "9     Atlético_Getafe       BB        0.90"
            ],
            "text/html": [
              "\n",
              "  <div id=\"df-b7478e19-7108-49fb-8055-9c683f694d30\" class=\"colab-df-container\">\n",
              "    <div>\n",
              "<style scoped>\n",
              "    .dataframe tbody tr th:only-of-type {\n",
              "        vertical-align: middle;\n",
              "    }\n",
              "\n",
              "    .dataframe tbody tr th {\n",
              "        vertical-align: top;\n",
              "    }\n",
              "\n",
              "    .dataframe thead th {\n",
              "        text-align: right;\n",
              "    }\n",
              "</style>\n",
              "<table border=\"1\" class=\"dataframe\">\n",
              "  <thead>\n",
              "    <tr style=\"text-align: right;\">\n",
              "      <th></th>\n",
              "      <th>Match</th>\n",
              "      <th>Category</th>\n",
              "      <th>Attendance</th>\n",
              "    </tr>\n",
              "  </thead>\n",
              "  <tbody>\n",
              "    <tr>\n",
              "      <th>0</th>\n",
              "      <td>Celta_RMadrid</td>\n",
              "      <td>BA</td>\n",
              "      <td>1.30</td>\n",
              "    </tr>\n",
              "    <tr>\n",
              "      <th>1</th>\n",
              "      <td>Valencia_RSociedad</td>\n",
              "      <td>BA</td>\n",
              "      <td>1.30</td>\n",
              "    </tr>\n",
              "    <tr>\n",
              "      <th>2</th>\n",
              "      <td>Mallorca_Eibar</td>\n",
              "      <td>CC</td>\n",
              "      <td>0.47</td>\n",
              "    </tr>\n",
              "    <tr>\n",
              "      <th>3</th>\n",
              "      <td>Athletic_Barcelona</td>\n",
              "      <td>BA</td>\n",
              "      <td>1.30</td>\n",
              "    </tr>\n",
              "    <tr>\n",
              "      <th>4</th>\n",
              "      <td>Leganés_Osasuna</td>\n",
              "      <td>CC</td>\n",
              "      <td>0.47</td>\n",
              "    </tr>\n",
              "    <tr>\n",
              "      <th>5</th>\n",
              "      <td>Villareal_Granada</td>\n",
              "      <td>BC</td>\n",
              "      <td>0.75</td>\n",
              "    </tr>\n",
              "    <tr>\n",
              "      <th>6</th>\n",
              "      <td>Alaves_Levante</td>\n",
              "      <td>BB</td>\n",
              "      <td>0.90</td>\n",
              "    </tr>\n",
              "    <tr>\n",
              "      <th>7</th>\n",
              "      <td>Espanyol_Sevilla</td>\n",
              "      <td>BB</td>\n",
              "      <td>0.90</td>\n",
              "    </tr>\n",
              "    <tr>\n",
              "      <th>8</th>\n",
              "      <td>Betis_Valladolid</td>\n",
              "      <td>BC</td>\n",
              "      <td>0.75</td>\n",
              "    </tr>\n",
              "    <tr>\n",
              "      <th>9</th>\n",
              "      <td>Atlético_Getafe</td>\n",
              "      <td>BB</td>\n",
              "      <td>0.90</td>\n",
              "    </tr>\n",
              "  </tbody>\n",
              "</table>\n",
              "</div>\n",
              "    <div class=\"colab-df-buttons\">\n",
              "\n",
              "  <div class=\"colab-df-container\">\n",
              "    <button class=\"colab-df-convert\" onclick=\"convertToInteractive('df-b7478e19-7108-49fb-8055-9c683f694d30')\"\n",
              "            title=\"Convert this dataframe to an interactive table.\"\n",
              "            style=\"display:none;\">\n",
              "\n",
              "  <svg xmlns=\"http://www.w3.org/2000/svg\" height=\"24px\" viewBox=\"0 -960 960 960\">\n",
              "    <path d=\"M120-120v-720h720v720H120Zm60-500h600v-160H180v160Zm220 220h160v-160H400v160Zm0 220h160v-160H400v160ZM180-400h160v-160H180v160Zm440 0h160v-160H620v160ZM180-180h160v-160H180v160Zm440 0h160v-160H620v160Z\"/>\n",
              "  </svg>\n",
              "    </button>\n",
              "\n",
              "  <style>\n",
              "    .colab-df-container {\n",
              "      display:flex;\n",
              "      gap: 12px;\n",
              "    }\n",
              "\n",
              "    .colab-df-convert {\n",
              "      background-color: #E8F0FE;\n",
              "      border: none;\n",
              "      border-radius: 50%;\n",
              "      cursor: pointer;\n",
              "      display: none;\n",
              "      fill: #1967D2;\n",
              "      height: 32px;\n",
              "      padding: 0 0 0 0;\n",
              "      width: 32px;\n",
              "    }\n",
              "\n",
              "    .colab-df-convert:hover {\n",
              "      background-color: #E2EBFA;\n",
              "      box-shadow: 0px 1px 2px rgba(60, 64, 67, 0.3), 0px 1px 3px 1px rgba(60, 64, 67, 0.15);\n",
              "      fill: #174EA6;\n",
              "    }\n",
              "\n",
              "    .colab-df-buttons div {\n",
              "      margin-bottom: 4px;\n",
              "    }\n",
              "\n",
              "    [theme=dark] .colab-df-convert {\n",
              "      background-color: #3B4455;\n",
              "      fill: #D2E3FC;\n",
              "    }\n",
              "\n",
              "    [theme=dark] .colab-df-convert:hover {\n",
              "      background-color: #434B5C;\n",
              "      box-shadow: 0px 1px 3px 1px rgba(0, 0, 0, 0.15);\n",
              "      filter: drop-shadow(0px 1px 2px rgba(0, 0, 0, 0.3));\n",
              "      fill: #FFFFFF;\n",
              "    }\n",
              "  </style>\n",
              "\n",
              "    <script>\n",
              "      const buttonEl =\n",
              "        document.querySelector('#df-b7478e19-7108-49fb-8055-9c683f694d30 button.colab-df-convert');\n",
              "      buttonEl.style.display =\n",
              "        google.colab.kernel.accessAllowed ? 'block' : 'none';\n",
              "\n",
              "      async function convertToInteractive(key) {\n",
              "        const element = document.querySelector('#df-b7478e19-7108-49fb-8055-9c683f694d30');\n",
              "        const dataTable =\n",
              "          await google.colab.kernel.invokeFunction('convertToInteractive',\n",
              "                                                    [key], {});\n",
              "        if (!dataTable) return;\n",
              "\n",
              "        const docLinkHtml = 'Like what you see? Visit the ' +\n",
              "          '<a target=\"_blank\" href=https://colab.research.google.com/notebooks/data_table.ipynb>data table notebook</a>'\n",
              "          + ' to learn more about interactive tables.';\n",
              "        element.innerHTML = '';\n",
              "        dataTable['output_type'] = 'display_data';\n",
              "        await google.colab.output.renderOutput(dataTable, element);\n",
              "        const docLink = document.createElement('div');\n",
              "        docLink.innerHTML = docLinkHtml;\n",
              "        element.appendChild(docLink);\n",
              "      }\n",
              "    </script>\n",
              "  </div>\n",
              "\n",
              "\n",
              "<div id=\"df-e8085c27-f2b9-4979-9b35-58ce8e5f540a\">\n",
              "  <button class=\"colab-df-quickchart\" onclick=\"quickchart('df-e8085c27-f2b9-4979-9b35-58ce8e5f540a')\"\n",
              "            title=\"Suggest charts\"\n",
              "            style=\"display:none;\">\n",
              "\n",
              "<svg xmlns=\"http://www.w3.org/2000/svg\" height=\"24px\"viewBox=\"0 0 24 24\"\n",
              "     width=\"24px\">\n",
              "    <g>\n",
              "        <path d=\"M19 3H5c-1.1 0-2 .9-2 2v14c0 1.1.9 2 2 2h14c1.1 0 2-.9 2-2V5c0-1.1-.9-2-2-2zM9 17H7v-7h2v7zm4 0h-2V7h2v10zm4 0h-2v-4h2v4z\"/>\n",
              "    </g>\n",
              "</svg>\n",
              "  </button>\n",
              "\n",
              "<style>\n",
              "  .colab-df-quickchart {\n",
              "      --bg-color: #E8F0FE;\n",
              "      --fill-color: #1967D2;\n",
              "      --hover-bg-color: #E2EBFA;\n",
              "      --hover-fill-color: #174EA6;\n",
              "      --disabled-fill-color: #AAA;\n",
              "      --disabled-bg-color: #DDD;\n",
              "  }\n",
              "\n",
              "  [theme=dark] .colab-df-quickchart {\n",
              "      --bg-color: #3B4455;\n",
              "      --fill-color: #D2E3FC;\n",
              "      --hover-bg-color: #434B5C;\n",
              "      --hover-fill-color: #FFFFFF;\n",
              "      --disabled-bg-color: #3B4455;\n",
              "      --disabled-fill-color: #666;\n",
              "  }\n",
              "\n",
              "  .colab-df-quickchart {\n",
              "    background-color: var(--bg-color);\n",
              "    border: none;\n",
              "    border-radius: 50%;\n",
              "    cursor: pointer;\n",
              "    display: none;\n",
              "    fill: var(--fill-color);\n",
              "    height: 32px;\n",
              "    padding: 0;\n",
              "    width: 32px;\n",
              "  }\n",
              "\n",
              "  .colab-df-quickchart:hover {\n",
              "    background-color: var(--hover-bg-color);\n",
              "    box-shadow: 0 1px 2px rgba(60, 64, 67, 0.3), 0 1px 3px 1px rgba(60, 64, 67, 0.15);\n",
              "    fill: var(--button-hover-fill-color);\n",
              "  }\n",
              "\n",
              "  .colab-df-quickchart-complete:disabled,\n",
              "  .colab-df-quickchart-complete:disabled:hover {\n",
              "    background-color: var(--disabled-bg-color);\n",
              "    fill: var(--disabled-fill-color);\n",
              "    box-shadow: none;\n",
              "  }\n",
              "\n",
              "  .colab-df-spinner {\n",
              "    border: 2px solid var(--fill-color);\n",
              "    border-color: transparent;\n",
              "    border-bottom-color: var(--fill-color);\n",
              "    animation:\n",
              "      spin 1s steps(1) infinite;\n",
              "  }\n",
              "\n",
              "  @keyframes spin {\n",
              "    0% {\n",
              "      border-color: transparent;\n",
              "      border-bottom-color: var(--fill-color);\n",
              "      border-left-color: var(--fill-color);\n",
              "    }\n",
              "    20% {\n",
              "      border-color: transparent;\n",
              "      border-left-color: var(--fill-color);\n",
              "      border-top-color: var(--fill-color);\n",
              "    }\n",
              "    30% {\n",
              "      border-color: transparent;\n",
              "      border-left-color: var(--fill-color);\n",
              "      border-top-color: var(--fill-color);\n",
              "      border-right-color: var(--fill-color);\n",
              "    }\n",
              "    40% {\n",
              "      border-color: transparent;\n",
              "      border-right-color: var(--fill-color);\n",
              "      border-top-color: var(--fill-color);\n",
              "    }\n",
              "    60% {\n",
              "      border-color: transparent;\n",
              "      border-right-color: var(--fill-color);\n",
              "    }\n",
              "    80% {\n",
              "      border-color: transparent;\n",
              "      border-right-color: var(--fill-color);\n",
              "      border-bottom-color: var(--fill-color);\n",
              "    }\n",
              "    90% {\n",
              "      border-color: transparent;\n",
              "      border-bottom-color: var(--fill-color);\n",
              "    }\n",
              "  }\n",
              "</style>\n",
              "\n",
              "  <script>\n",
              "    async function quickchart(key) {\n",
              "      const quickchartButtonEl =\n",
              "        document.querySelector('#' + key + ' button');\n",
              "      quickchartButtonEl.disabled = true;  // To prevent multiple clicks.\n",
              "      quickchartButtonEl.classList.add('colab-df-spinner');\n",
              "      try {\n",
              "        const charts = await google.colab.kernel.invokeFunction(\n",
              "            'suggestCharts', [key], {});\n",
              "      } catch (error) {\n",
              "        console.error('Error during call to suggestCharts:', error);\n",
              "      }\n",
              "      quickchartButtonEl.classList.remove('colab-df-spinner');\n",
              "      quickchartButtonEl.classList.add('colab-df-quickchart-complete');\n",
              "    }\n",
              "    (() => {\n",
              "      let quickchartButtonEl =\n",
              "        document.querySelector('#df-e8085c27-f2b9-4979-9b35-58ce8e5f540a button');\n",
              "      quickchartButtonEl.style.display =\n",
              "        google.colab.kernel.accessAllowed ? 'block' : 'none';\n",
              "    })();\n",
              "  </script>\n",
              "</div>\n",
              "    </div>\n",
              "  </div>\n"
            ]
          },
          "metadata": {}
        }
      ]
    },
    {
      "cell_type": "markdown",
      "source": [
        "#**Diseño**\n",
        "## - ¿Que técnica utilizo? ¿Por qué?\n",
        "Se emplearán algoritmos genéticos, justificación:\n",
        "-\n",
        "- Motivos personales/profesionales. En breves, para una aplicación de optimización de control en un proyecto laboral tendré que implementar algoritmos genéticos, por lo que me parace un buen momento para aplicar los conocimientos en la práctica (afianzando estos) y tener una toma de contacto controlada.\n",
        "\n",
        "\n",
        "\n",
        "1.   Inicialización\n",
        "2.   Evaluación <br>\n",
        "Durante el número definido de generaciones:\n",
        "  3.   Selección\n",
        "  4.   Cruce\n",
        "  5.   Mutación\n",
        "\n",
        "\n"
      ],
      "metadata": {
        "id": "ixEJUwH_pv7M"
      }
    },
    {
      "cell_type": "markdown",
      "source": [
        "### 1. Inicialización"
      ],
      "metadata": {
        "id": "gw3mL0_XYWiI"
      }
    },
    {
      "cell_type": "code",
      "source": [
        "def generator(num: int):\n",
        "    '''\n",
        "    Función generadora de propuestas (inializador)\n",
        "\n",
        "    num -> tamaño de la muestra\n",
        "    '''\n",
        "    proposal = []\n",
        "    for i in range(0, num):\n",
        "        schedule = []\n",
        "        # De la siguiente lista se disponen aleatoriamente los elementos, dando una\n",
        "        # lista con 10 elementos\n",
        "        schedule_options = ['S12', 'S16', 'S18', 'S20', 'D12', 'D16', 'D18', 'D20']\n",
        "        for j in range(0, 10):\n",
        "            schedule.append(random.choice(schedule_options))\n",
        "\n",
        "        # Se definen aleatoriamente la posición en la lista del horario de viernes y lunes\n",
        "        pos_v = random.randint(0,9)\n",
        "        pos_l = random.randint(0,9)\n",
        "\n",
        "        # El caso de que las posiciones sean las mismas es problemático\n",
        "        # Por lo que se interan hasta que sean distintos\n",
        "\n",
        "        while pos_v == pos_l:\n",
        "            pos_l = random.randint(0,9)\n",
        "\n",
        "        schedule[pos_v] = 'V20'\n",
        "        schedule[pos_l] = 'L20'\n",
        "\n",
        "\n",
        "        proposal.append(schedule)\n",
        "\n",
        "    return proposal"
      ],
      "metadata": {
        "id": "RNPVuKKbYhJS"
      },
      "execution_count": 7,
      "outputs": []
    },
    {
      "cell_type": "code",
      "source": [
        "# Se comprueba el correcto funcionamiento de la función de evaluación\n",
        "generator(3)"
      ],
      "metadata": {
        "colab": {
          "base_uri": "https://localhost:8080/"
        },
        "id": "_j8PK2iEaJiT",
        "outputId": "151763a7-8169-427d-984f-19d7c6b12ab9"
      },
      "execution_count": 8,
      "outputs": [
        {
          "output_type": "execute_result",
          "data": {
            "text/plain": [
              "[['L20', 'D12', 'V20', 'D16', 'D12', 'D20', 'S12', 'S12', 'S16', 'D12'],\n",
              " ['S18', 'S12', 'D12', 'D20', 'S12', 'S16', 'S20', 'D20', 'L20', 'V20'],\n",
              " ['S16', 'S18', 'S20', 'V20', 'L20', 'S16', 'S12', 'D12', 'D18', 'D20']]"
            ]
          },
          "metadata": {},
          "execution_count": 8
        }
      ]
    },
    {
      "cell_type": "markdown",
      "source": [
        "### 2. Evalaución"
      ],
      "metadata": {
        "id": "CaUuHVY3Ycu_"
      }
    },
    {
      "cell_type": "code",
      "source": [
        "# Función de evalaución\n",
        "\n",
        "def evaluation(proposed_journey):\n",
        "    '''\n",
        "    Función para saber resultado de la función objetivo\n",
        "\n",
        "    proposed_journey -> lista con los horarios de la jornada\n",
        "    '''\n",
        "\n",
        "    # Se copia el dataframe base para no alterarlo\n",
        "    df_matches = df_matches_init.copy()\n",
        "\n",
        "    # Se añade la asignación de horarios propuesta\n",
        "    df_matches['Schedule'] = proposed_journey\n",
        "\n",
        "    # Se añade el factor de cada horario\n",
        "    schedule_factor = []\n",
        "    for i in range(0, len(df_matches['Schedule'])):\n",
        "        schedule_factor.append(fact_schedule[df_matches['Schedule'][i]])\n",
        "\n",
        "    df_matches['Factor schedule'] = schedule_factor\n",
        "\n",
        "    # Se cuenta cuantos partidos tienen el mismo horario\n",
        "    schedule_count = {'V20': 0,'S12': 0,'S16': 0, 'S18': 0, 'S20': 0, 'D12': 0, 'D16': 0, 'D18': 0, 'D20': 0, 'L20': 0}\n",
        "    for date in df_matches['Schedule']:\n",
        "        schedule_count[str(date)] += 1\n",
        "\n",
        "    # Se añade el número de coincidencias de cada partido\n",
        "    coincidence = []\n",
        "    for i in range(0, len(df_matches['Schedule'])):\n",
        "        coincidence.append(schedule_count[df_matches['Schedule'][i]] - 1)\n",
        "\n",
        "    df_matches['Coincidence'] = coincidence\n",
        "\n",
        "    # Se añade el factor de coincidencia\n",
        "    coincidence_factor = []\n",
        "    for i in range(0, len(df_matches['Schedule'])):\n",
        "        coincidence_factor.append(fact_coincidence[df_matches['Coincidence'][i]])\n",
        "\n",
        "    df_matches['Factor coincidence'] = coincidence_factor\n",
        "\n",
        "    # Se calcula y añade la audiencia de cada partido con sus respectivos factores\n",
        "    result = []\n",
        "    for i in range(0, len(df_matches['Schedule'])):\n",
        "        result.append(df_matches['Attendance'][i] * df_matches['Factor schedule'][i] * df_matches['Factor coincidence'][i])\n",
        "\n",
        "    df_matches['Result'] = result\n",
        "\n",
        "    # Sumando todos los resultados parciales obtenemos la solución a la función objetivo\n",
        "    proposed_result = sum(df_matches['Result'])\n",
        "\n",
        "    # Se devuelve el resultado de la función objetivo\n",
        "    return proposed_result"
      ],
      "metadata": {
        "id": "ZdKPjB9gp2BA"
      },
      "execution_count": 9,
      "outputs": []
    },
    {
      "cell_type": "code",
      "source": [
        "# Se comprueba el correcto funcionamiento de la función de evaluación\n",
        "evaluation(['V20', 'S16', 'S18', 'S20', 'D12', 'D16', 'D18', 'D20', 'D20', 'L20'])"
      ],
      "metadata": {
        "colab": {
          "base_uri": "https://localhost:8080/"
        },
        "id": "jkv_oR9YYXer",
        "outputId": "ed2c1d0b-eecc-4ae3-9f65-0b5aefb1faf6"
      },
      "execution_count": 10,
      "outputs": [
        {
          "output_type": "execute_result",
          "data": {
            "text/plain": [
              "6.2425"
            ]
          },
          "metadata": {},
          "execution_count": 10
        }
      ]
    },
    {
      "cell_type": "markdown",
      "source": [
        "### 3. Selección"
      ],
      "metadata": {
        "id": "uVDz1aIKZZWm"
      }
    },
    {
      "cell_type": "code",
      "source": [
        "# Esta función aún no esta muy pulida, la idea es partir en 2 los resultados\n",
        "# y tomar la mejor mitad\n",
        "def seleccion_padres(resultados):\n",
        "  resultados_top = resultados[0:int(len(resultados))]\n",
        "  return resultados_top"
      ],
      "metadata": {
        "id": "5lWEAhaSaNvd"
      },
      "execution_count": 11,
      "outputs": []
    },
    {
      "cell_type": "code",
      "source": [
        "test = []\n",
        "i = 0\n",
        "\n",
        "for jornada in generator(21):\n",
        "    test.append((i, jornada))\n",
        "    i += 1"
      ],
      "metadata": {
        "id": "oiimgXaiaynT"
      },
      "execution_count": 12,
      "outputs": []
    },
    {
      "cell_type": "code",
      "source": [
        "seleccion_padres(test)"
      ],
      "metadata": {
        "colab": {
          "base_uri": "https://localhost:8080/"
        },
        "id": "3zZq35YRa0M_",
        "outputId": "551f0709-79e5-4e2e-a55a-f8714f90526c"
      },
      "execution_count": 13,
      "outputs": [
        {
          "output_type": "execute_result",
          "data": {
            "text/plain": [
              "[(0, ['D18', 'V20', 'D12', 'S18', 'D18', 'S18', 'S16', 'S12', 'L20', 'D20']),\n",
              " (1, ['D20', 'S12', 'D18', 'S16', 'S16', 'V20', 'L20', 'S12', 'S18', 'S16']),\n",
              " (2, ['S18', 'L20', 'D12', 'D20', 'S18', 'S20', 'D20', 'V20', 'S12', 'S20']),\n",
              " (3, ['D12', 'S16', 'D18', 'L20', 'S18', 'D20', 'V20', 'S18', 'D18', 'D18']),\n",
              " (4, ['L20', 'D20', 'V20', 'D18', 'S16', 'S12', 'S18', 'S18', 'D20', 'D20']),\n",
              " (5, ['V20', 'D12', 'S16', 'D20', 'D20', 'S12', 'D16', 'D16', 'D18', 'L20']),\n",
              " (6, ['D12', 'D16', 'S18', 'V20', 'S18', 'D16', 'S20', 'D12', 'L20', 'S20']),\n",
              " (7, ['D18', 'S16', 'S16', 'S18', 'V20', 'S18', 'S18', 'D12', 'S18', 'L20']),\n",
              " (8, ['S12', 'D20', 'S20', 'D20', 'S20', 'D12', 'D20', 'L20', 'V20', 'S20']),\n",
              " (9, ['D12', 'D20', 'S18', 'D20', 'D20', 'L20', 'V20', 'S12', 'D18', 'D16']),\n",
              " (10, ['S18', 'S18', 'L20', 'D16', 'V20', 'D20', 'S18', 'D20', 'S18', 'S12']),\n",
              " (11, ['S20', 'V20', 'D16', 'D20', 'D18', 'S16', 'L20', 'S12', 'D20', 'D12']),\n",
              " (12, ['V20', 'D18', 'S12', 'D16', 'S16', 'L20', 'S20', 'S18', 'S12', 'S18']),\n",
              " (13, ['S18', 'D16', 'V20', 'D18', 'S12', 'D12', 'S20', 'D20', 'S18', 'L20']),\n",
              " (14, ['L20', 'S16', 'S12', 'D16', 'V20', 'D12', 'D12', 'D12', 'S12', 'D12']),\n",
              " (15, ['V20', 'S20', 'D20', 'L20', 'D12', 'S16', 'D18', 'S18', 'D20', 'D16']),\n",
              " (16, ['D20', 'D20', 'D18', 'S12', 'V20', 'D12', 'L20', 'D18', 'D20', 'D18']),\n",
              " (17, ['S20', 'L20', 'D18', 'S16', 'V20', 'S18', 'D16', 'D20', 'D20', 'S20']),\n",
              " (18, ['L20', 'D16', 'D20', 'D20', 'S20', 'S12', 'V20', 'S20', 'S16', 'S16']),\n",
              " (19, ['V20', 'L20', 'S18', 'S16', 'S20', 'D18', 'S20', 'D12', 'S20', 'S20']),\n",
              " (20, ['D20', 'S20', 'L20', 'S12', 'D18', 'S18', 'S20', 'D12', 'S18', 'V20'])]"
            ]
          },
          "metadata": {},
          "execution_count": 13
        }
      ]
    },
    {
      "cell_type": "markdown",
      "source": [
        "### 4. Cruce"
      ],
      "metadata": {
        "id": "qLJ1wB_-Z2Ko"
      }
    },
    {
      "cell_type": "code",
      "source": [
        "# No estoy seguro si es una buena idea, no he tenido tiempo de probar alternativas\n",
        "\n",
        "def cruce(resultados_top):\n",
        "  nuevos_individuos = []\n",
        "  padre = resultados_top[0][1]\n",
        "  index_viernes = padre.index('V20')\n",
        "  index_lunes = padre.index('L20')\n",
        "  for prop in resultados_top:\n",
        "    madre = prop[1]\n",
        "    # Tomamos los elementos de 0 hasta V20 o L20 (lo que esté antes) del padre\n",
        "    # Desde el indice anterior hasta el otro (V20 o L20) de la madre\n",
        "    # Desde este último hasta el final\n",
        "    # Con esto conseguimos que V20 y L20 se mantengan en la misma posición\n",
        "    if index_viernes < index_lunes:\n",
        "        nuevo_individuo = padre[0:index_viernes + 1] + madre[index_viernes + 1:index_lunes] + padre[index_lunes:10]\n",
        "    else:\n",
        "        nuevo_individuo = padre[0:index_lunes + 1] + madre[index_lunes + 1:index_viernes] + padre[index_viernes:10]\n",
        "\n",
        "    nuevos_individuos.append(nuevo_individuo)\n",
        "\n",
        "  return nuevos_individuos"
      ],
      "metadata": {
        "id": "oRbGo8fFZ4Pm"
      },
      "execution_count": 14,
      "outputs": []
    },
    {
      "cell_type": "code",
      "source": [
        "cruce(test)"
      ],
      "metadata": {
        "colab": {
          "base_uri": "https://localhost:8080/"
        },
        "id": "eZsmnqHma3bE",
        "outputId": "10daa38f-94ba-49e1-9a09-05b6a3faafe2"
      },
      "execution_count": 15,
      "outputs": [
        {
          "output_type": "execute_result",
          "data": {
            "text/plain": [
              "[['D18', 'V20', 'D12', 'S18', 'D18', 'S18', 'S16', 'S12', 'L20', 'D20'],\n",
              " ['D18', 'V20', 'D18', 'S16', 'S16', 'V20', 'L20', 'S12', 'L20', 'D20'],\n",
              " ['D18', 'V20', 'D12', 'D20', 'S18', 'S20', 'D20', 'V20', 'L20', 'D20'],\n",
              " ['D18', 'V20', 'D18', 'L20', 'S18', 'D20', 'V20', 'S18', 'L20', 'D20'],\n",
              " ['D18', 'V20', 'V20', 'D18', 'S16', 'S12', 'S18', 'S18', 'L20', 'D20'],\n",
              " ['D18', 'V20', 'S16', 'D20', 'D20', 'S12', 'D16', 'D16', 'L20', 'D20'],\n",
              " ['D18', 'V20', 'S18', 'V20', 'S18', 'D16', 'S20', 'D12', 'L20', 'D20'],\n",
              " ['D18', 'V20', 'S16', 'S18', 'V20', 'S18', 'S18', 'D12', 'L20', 'D20'],\n",
              " ['D18', 'V20', 'S20', 'D20', 'S20', 'D12', 'D20', 'L20', 'L20', 'D20'],\n",
              " ['D18', 'V20', 'S18', 'D20', 'D20', 'L20', 'V20', 'S12', 'L20', 'D20'],\n",
              " ['D18', 'V20', 'L20', 'D16', 'V20', 'D20', 'S18', 'D20', 'L20', 'D20'],\n",
              " ['D18', 'V20', 'D16', 'D20', 'D18', 'S16', 'L20', 'S12', 'L20', 'D20'],\n",
              " ['D18', 'V20', 'S12', 'D16', 'S16', 'L20', 'S20', 'S18', 'L20', 'D20'],\n",
              " ['D18', 'V20', 'V20', 'D18', 'S12', 'D12', 'S20', 'D20', 'L20', 'D20'],\n",
              " ['D18', 'V20', 'S12', 'D16', 'V20', 'D12', 'D12', 'D12', 'L20', 'D20'],\n",
              " ['D18', 'V20', 'D20', 'L20', 'D12', 'S16', 'D18', 'S18', 'L20', 'D20'],\n",
              " ['D18', 'V20', 'D18', 'S12', 'V20', 'D12', 'L20', 'D18', 'L20', 'D20'],\n",
              " ['D18', 'V20', 'D18', 'S16', 'V20', 'S18', 'D16', 'D20', 'L20', 'D20'],\n",
              " ['D18', 'V20', 'D20', 'D20', 'S20', 'S12', 'V20', 'S20', 'L20', 'D20'],\n",
              " ['D18', 'V20', 'S18', 'S16', 'S20', 'D18', 'S20', 'D12', 'L20', 'D20'],\n",
              " ['D18', 'V20', 'L20', 'S12', 'D18', 'S18', 'S20', 'D12', 'L20', 'D20']]"
            ]
          },
          "metadata": {},
          "execution_count": 15
        }
      ]
    },
    {
      "cell_type": "markdown",
      "source": [
        "### 5. Mutación"
      ],
      "metadata": {
        "id": "u3qChCK7aK5c"
      }
    },
    {
      "cell_type": "code",
      "source": [
        "# Aquí creo que es el punto donde tengo mayor margen de mejora\n",
        "# Las mutaciones no me parecen correctas al 100%\n",
        "# La idea final es que tome el cruce y cambie solo uno de los horarios de la\n",
        "# jornada (pero no pueden ser ni V20 ni L20)\n",
        "\n",
        "def mutacion(nuevos_individuos):\n",
        "  sin_mutar = nuevos_individuos[0:int((len(nuevos_individuos)/2))]\n",
        "  mutados1 = nuevos_individuos[int((len(nuevos_individuos)/2)):int(((len(nuevos_individuos)/2)+len(nuevos_individuos)/4))]\n",
        "  schedule_options = ['S12', 'S16', 'S18', 'S20', 'D12', 'D16', 'D18', 'D20']\n",
        "  for mutado in mutados1:\n",
        "      for horario in mutado:\n",
        "        if horario != 'V20':\n",
        "          if horario != 'L20':\n",
        "            mutado[mutado.index(horario)] = random.choice(schedule_options)\n",
        "  # Aportamos individuos totalmente nuevos\n",
        "  mutados2 = generator(int(len(nuevos_individuos) - ((len(nuevos_individuos)/2)+len(nuevos_individuos)/4)))\n",
        "  nuevos_individuos_mutados = sin_mutar + mutados1 + mutados2\n",
        "  return nuevos_individuos_mutados"
      ],
      "metadata": {
        "id": "eP9VKBWmaNH3"
      },
      "execution_count": 20,
      "outputs": []
    },
    {
      "cell_type": "code",
      "source": [
        "mutacion(cruce(seleccion_padres(test)))"
      ],
      "metadata": {
        "colab": {
          "base_uri": "https://localhost:8080/"
        },
        "id": "UVZ0MUrka5Ye",
        "outputId": "d4839e79-6e38-41bf-f929-fd92db67fb2a"
      },
      "execution_count": 21,
      "outputs": [
        {
          "output_type": "execute_result",
          "data": {
            "text/plain": [
              "[['D18', 'V20', 'D12', 'S18', 'D18', 'S18', 'S16', 'S12', 'L20', 'D20'],\n",
              " ['D18', 'V20', 'D18', 'S16', 'S16', 'V20', 'L20', 'S12', 'L20', 'D20'],\n",
              " ['D18', 'V20', 'D12', 'D20', 'S18', 'S20', 'D20', 'V20', 'L20', 'D20'],\n",
              " ['D18', 'V20', 'D18', 'L20', 'S18', 'D20', 'V20', 'S18', 'L20', 'D20'],\n",
              " ['D18', 'V20', 'V20', 'D18', 'S16', 'S12', 'S18', 'S18', 'L20', 'D20'],\n",
              " ['D18', 'V20', 'S16', 'D20', 'D20', 'S12', 'D16', 'D16', 'L20', 'D20'],\n",
              " ['D18', 'V20', 'S18', 'V20', 'S18', 'D16', 'S20', 'D12', 'L20', 'D20'],\n",
              " ['D18', 'V20', 'S16', 'S18', 'V20', 'S18', 'S18', 'D12', 'L20', 'D20'],\n",
              " ['D18', 'V20', 'S20', 'D20', 'S20', 'D12', 'D20', 'L20', 'L20', 'D20'],\n",
              " ['D18', 'V20', 'S18', 'D20', 'D20', 'L20', 'V20', 'S12', 'L20', 'D20'],\n",
              " ['D18', 'V20', 'L20', 'S12', 'V20', 'S18', 'S18', 'D20', 'L20', 'D20'],\n",
              " ['S18', 'V20', 'S20', 'D16', 'D16', 'S12', 'L20', 'S12', 'L20', 'D12'],\n",
              " ['D18', 'V20', 'D12', 'D16', 'S16', 'L20', 'S20', 'D16', 'L20', 'D20'],\n",
              " ['S16', 'V20', 'V20', 'D18', 'S12', 'S12', 'D16', 'D12', 'L20', 'S20'],\n",
              " ['S12', 'V20', 'S12', 'D16', 'V20', 'D18', 'D18', 'D12', 'L20', 'D20'],\n",
              " ['V20', 'D20', 'S20', 'S20', 'L20', 'D12', 'D16', 'D20', 'S12', 'S18'],\n",
              " ['D20', 'D18', 'D12', 'L20', 'V20', 'S20', 'S18', 'S12', 'S18', 'D12'],\n",
              " ['V20', 'S16', 'D20', 'D18', 'D18', 'S18', 'S16', 'L20', 'D12', 'S20'],\n",
              " ['S20', 'S20', 'D16', 'V20', 'S16', 'L20', 'D20', 'S18', 'S20', 'S20'],\n",
              " ['D18', 'L20', 'S16', 'V20', 'S12', 'D20', 'D18', 'S20', 'D12', 'S16']]"
            ]
          },
          "metadata": {},
          "execution_count": 21
        }
      ]
    },
    {
      "cell_type": "markdown",
      "source": [
        "## Algoritmo genético"
      ],
      "metadata": {
        "id": "t9kWtVkJa-2F"
      }
    },
    {
      "cell_type": "code",
      "source": [
        "def algoritmo_gene(tamaño_poblacion, epoc):\n",
        "    resultados = []\n",
        "    for poblacion in generator(tamaño_poblacion):\n",
        "        resultados.append([evaluation(poblacion), poblacion])\n",
        "\n",
        "    resultados.sort(reverse = True)\n",
        "\n",
        "    resultado_total = []\n",
        "    resultado_total.append(resultados[0] + [0])\n",
        "    '''print(resultado_total)'''\n",
        "\n",
        "\n",
        "    for i in range(0, epoc):\n",
        "        print(i)\n",
        "        x = seleccion_padres(resultados)\n",
        "        y = cruce(x)\n",
        "        z = mutacion(y)\n",
        "        resultados = []\n",
        "        # z = mutacion(cruce(seleccion_padres(resultados)))\n",
        "        for poblacion in z:\n",
        "            resultados.append([evaluation(poblacion), poblacion])\n",
        "        resultados.sort(reverse = True)\n",
        "        resultado_total.append(resultados[0] + [i+1])\n",
        "\n",
        "    return resultado_total"
      ],
      "metadata": {
        "id": "8nQH0_zvbBDz"
      },
      "execution_count": 22,
      "outputs": []
    },
    {
      "cell_type": "code",
      "source": [
        "# Probamos el algoritmo\n",
        "# Indicar que cuento con un Macbook Pro (M3Pro),\n",
        "# y esta línea se ejecuta mucho más rápido\n",
        "final = algoritmo_gene(150, 200)"
      ],
      "metadata": {
        "colab": {
          "base_uri": "https://localhost:8080/"
        },
        "id": "b4r1MiS1bE2q",
        "outputId": "1c5e707d-f09d-41a5-9441-d4138128ef04"
      },
      "execution_count": null,
      "outputs": [
        {
          "output_type": "stream",
          "name": "stdout",
          "text": [
            "0\n",
            "1\n",
            "2\n",
            "3\n",
            "4\n",
            "5\n",
            "6\n",
            "7\n",
            "8\n",
            "9\n",
            "10\n",
            "11\n",
            "12\n",
            "13\n",
            "14\n",
            "15\n",
            "16\n",
            "17\n",
            "18\n",
            "19\n",
            "20\n",
            "21\n",
            "22\n",
            "23\n",
            "24\n",
            "25\n",
            "26\n",
            "27\n",
            "28\n",
            "29\n",
            "30\n",
            "31\n",
            "32\n",
            "33\n",
            "34\n",
            "35\n",
            "36\n",
            "37\n",
            "38\n",
            "39\n",
            "40\n",
            "41\n",
            "42\n",
            "43\n",
            "44\n",
            "45\n",
            "46\n",
            "47\n",
            "48\n",
            "49\n",
            "50\n",
            "51\n",
            "52\n",
            "53\n",
            "54\n",
            "55\n",
            "56\n",
            "57\n",
            "58\n",
            "59\n",
            "60\n",
            "61\n",
            "62\n",
            "63\n",
            "64\n"
          ]
        }
      ]
    },
    {
      "cell_type": "code",
      "source": [
        "datos = []\n",
        "for i in range(0, len(final)):\n",
        "    datos.append(final[i][0])\n",
        "\n",
        "print(f'La mejor jornada es con los siguinetes horarios: {final[-1][1]}')\n",
        "print(max(datos))"
      ],
      "metadata": {
        "id": "VQdriljKbfj_"
      },
      "execution_count": null,
      "outputs": []
    },
    {
      "cell_type": "code",
      "source": [
        "import matplotlib.pyplot as plt\n",
        "\n",
        "plt.plot(datos)\n",
        "plt.xlabel('Generaciones')\n",
        "plt.ylabel('Millones de aficionados')\n",
        "plt.title('Gráfico de progreso de mejor audiencia en jornada')\n",
        "plt.show()"
      ],
      "metadata": {
        "id": "hB9mmp1hbIzd"
      },
      "execution_count": null,
      "outputs": []
    },
    {
      "cell_type": "markdown",
      "source": [
        "Mejorando las mutaciones espero obtener menor planitud en las generaciones.\n",
        "El mayor valor alcanzado ha sido de 6.856, pero aún no consigo alta reproducibilidad. ¿Es correcto el enfoque?"
      ],
      "metadata": {
        "id": "QAoIoFVAcPW4"
      }
    }
  ]
}